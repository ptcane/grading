{
 "cells": [
  {
   "cell_type": "markdown",
   "metadata": {},
   "source": [
    "## Circles"
   ]
  },
  {
   "cell_type": "markdown",
   "metadata": {},
   "source": [
    "Here's a normal markdown cell."
   ]
  },
  {
   "cell_type": "markdown",
   "metadata": {},
   "source": [
    "Try and see what `print()` does:"
   ]
  },
  {
   "cell_type": "code",
   "execution_count": 1,
   "metadata": {},
   "outputs": [
    {
     "name": "stdout",
     "output_type": "stream",
     "text": [
      "sdafdasf sdfsdafsd sdafsdafsd\n"
     ]
    }
   ],
   "source": [
    "print('sdafdasf sdfsdafsd sdafsdafsd')"
   ]
  },
  {
   "cell_type": "code",
   "execution_count": 2,
   "metadata": {},
   "outputs": [
    {
     "data": {
      "text/plain": [
       "99"
      ]
     },
     "execution_count": 2,
     "metadata": {},
     "output_type": "execute_result"
    }
   ],
   "source": [
    "x = 44\n",
    "y = 55\n",
    "x + y"
   ]
  },
  {
   "cell_type": "code",
   "execution_count": 3,
   "metadata": {},
   "outputs": [
    {
     "data": {
      "text/html": [
       "<svg width=\"500\" height=\"150\">\n",
       "    <circle cx=\"50\" cy=\"40\" r=\"40\" fill=\"PaleGreen\"/>\n",
       "    <circle cx=\"100\" cy=\"40\" r=\"40\" fill=\"SpringGreen\"/>\n",
       "    <circle cx=\"150\" cy=\"40\" r=\"40\" fill=\"MediumSeaGreen\"/>\n",
       "    <circle cx=\"250\" cy=\"80\" r=\"40\" fill=\"LightSkyBlue\"/>\n",
       "    <circle cx=\"200\" cy=\"80\" r=\"40\" fill=\"DodgerBlue\"/>\n",
       "</svg>\n"
      ],
      "text/plain": [
       "<IPython.core.display.HTML object>"
      ]
     },
     "metadata": {},
     "output_type": "display_data"
    }
   ],
   "source": [
    "%%html\n",
    "<svg width=\"500\" height=\"150\">\n",
    "    <circle cx=\"50\" cy=\"40\" r=\"40\" fill=\"PaleGreen\"/>\n",
    "    <circle cx=\"100\" cy=\"40\" r=\"40\" fill=\"SpringGreen\"/>\n",
    "    <circle cx=\"150\" cy=\"40\" r=\"40\" fill=\"MediumSeaGreen\"/>\n",
    "    <circle cx=\"250\" cy=\"80\" r=\"40\" fill=\"LightSkyBlue\"/>\n",
    "    <circle cx=\"200\" cy=\"80\" r=\"40\" fill=\"DodgerBlue\"/>\n",
    "</svg>"
   ]
  },
  {
   "cell_type": "markdown",
   "metadata": {},
   "source": [
    "normal md text\n",
    "\n",
    "```python\n",
    "my_var = 45 + 32\n",
    "#comment within inline bit\n",
    "```\n",
    "more normal markdown text\n",
    "\n",
    "> blockquote thindsknfsafsdf"
   ]
  },
  {
   "cell_type": "markdown",
   "metadata": {},
   "source": [
    "\n",
    "!!! info\n",
    "    asdfasdfdasfsdafasdfasdf"
   ]
  },
  {
   "cell_type": "code",
   "execution_count": 4,
   "metadata": {},
   "outputs": [
    {
     "data": {
      "text/plain": [
       "4"
      ]
     },
     "execution_count": 4,
     "metadata": {},
     "output_type": "execute_result"
    }
   ],
   "source": [
    "2 + 2"
   ]
  },
  {
   "cell_type": "markdown",
   "metadata": {},
   "source": [
    "inline code in md cell with python after dashes and then code block indented:\n",
    "```python\n",
    "    import time as t\n",
    "    dd = 'the best'\n",
    "```\n",
    "\n",
    "followed by a blockquote:\n",
    "\n",
    "> try this out\n",
    "\n",
    "followed by an indented blockquote:\n",
    "\n",
    "    > more of the same"
   ]
  },
  {
   "cell_type": "code",
   "execution_count": 5,
   "metadata": {},
   "outputs": [],
   "source": [
    "import pandas as pd"
   ]
  },
  {
   "cell_type": "code",
   "execution_count": 6,
   "metadata": {},
   "outputs": [],
   "source": [
    "df = pd.read_csv('lightings.csv')"
   ]
  },
  {
   "cell_type": "code",
   "execution_count": 7,
   "metadata": {},
   "outputs": [
    {
     "data": {
      "text/html": [
       "<div>\n",
       "<style scoped>\n",
       "    .dataframe tbody tr th:only-of-type {\n",
       "        vertical-align: middle;\n",
       "    }\n",
       "\n",
       "    .dataframe tbody tr th {\n",
       "        vertical-align: top;\n",
       "    }\n",
       "\n",
       "    .dataframe thead th {\n",
       "        text-align: right;\n",
       "    }\n",
       "</style>\n",
       "<table border=\"1\" class=\"dataframe\">\n",
       "  <thead>\n",
       "    <tr style=\"text-align: right;\">\n",
       "      <th></th>\n",
       "      <th>Date</th>\n",
       "      <th>Timestamp_Down</th>\n",
       "      <th>Timestamp_Up</th>\n",
       "      <th>Friendly_Down</th>\n",
       "      <th>Friendly_Up</th>\n",
       "    </tr>\n",
       "  </thead>\n",
       "  <tbody>\n",
       "    <tr>\n",
       "      <th>0</th>\n",
       "      <td>20180101</td>\n",
       "      <td>1514792100</td>\n",
       "      <td>1514823840</td>\n",
       "      <td>07:35</td>\n",
       "      <td>16:24</td>\n",
       "    </tr>\n",
       "    <tr>\n",
       "      <th>1</th>\n",
       "      <td>20180102</td>\n",
       "      <td>1514878500</td>\n",
       "      <td>1514910300</td>\n",
       "      <td>07:35</td>\n",
       "      <td>16:25</td>\n",
       "    </tr>\n",
       "    <tr>\n",
       "      <th>2</th>\n",
       "      <td>20180103</td>\n",
       "      <td>1514964900</td>\n",
       "      <td>1514996760</td>\n",
       "      <td>07:35</td>\n",
       "      <td>16:26</td>\n",
       "    </tr>\n",
       "    <tr>\n",
       "      <th>3</th>\n",
       "      <td>20180104</td>\n",
       "      <td>1515051300</td>\n",
       "      <td>1515083220</td>\n",
       "      <td>07:35</td>\n",
       "      <td>16:27</td>\n",
       "    </tr>\n",
       "    <tr>\n",
       "      <th>4</th>\n",
       "      <td>20180105</td>\n",
       "      <td>1515137700</td>\n",
       "      <td>1515169680</td>\n",
       "      <td>07:35</td>\n",
       "      <td>16:28</td>\n",
       "    </tr>\n",
       "  </tbody>\n",
       "</table>\n",
       "</div>"
      ],
      "text/plain": [
       "       Date  Timestamp_Down  Timestamp_Up Friendly_Down Friendly_Up\n",
       "0  20180101      1514792100    1514823840         07:35       16:24\n",
       "1  20180102      1514878500    1514910300         07:35       16:25\n",
       "2  20180103      1514964900    1514996760         07:35       16:26\n",
       "3  20180104      1515051300    1515083220         07:35       16:27\n",
       "4  20180105      1515137700    1515169680         07:35       16:28"
      ]
     },
     "execution_count": 7,
     "metadata": {},
     "output_type": "execute_result"
    }
   ],
   "source": [
    "df.head()"
   ]
  },
  {
   "cell_type": "code",
   "execution_count": null,
   "metadata": {},
   "outputs": [],
   "source": []
  }
 ],
 "metadata": {
  "jupytext": {
   "formats": "notebooks///ipynb,scripts///py:percent"
  },
  "kernelspec": {
   "display_name": "Python 3",
   "language": "python",
   "name": "python3"
  },
  "language_info": {
   "codemirror_mode": {
    "name": "ipython",
    "version": 3
   },
   "file_extension": ".py",
   "mimetype": "text/x-python",
   "name": "python",
   "nbconvert_exporter": "python",
   "pygments_lexer": "ipython3",
   "version": "3.7.6"
  }
 },
 "nbformat": 4,
 "nbformat_minor": 4
}
